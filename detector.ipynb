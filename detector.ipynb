{
 "cells": [
  {
   "cell_type": "code",
   "execution_count": 11,
   "metadata": {},
   "outputs": [
    {
     "name": "stdout",
     "output_type": "stream",
     "text": [
      "1/1 [==============================] - 1s 758ms/step\n"
     ]
    }
   ],
   "source": [
    "import numpy as np\n",
    "import tensorflow as tf\n",
    "path=r'a'\n",
    "img_size=128\n",
    "import tensorflow as tf\n",
    "from tensorflow.keras.preprocessing.image import load_img, img_to_array\n",
    "from tensorflow.keras.preprocessing.image import ImageDataGenerator\n",
    "import numpy as np\n",
    "model=tf.keras.models.load_model('final.h5')\n",
    "# test_gen = ImageDataGenerator(rescale  = 1./255) #preparation through evaluation\n",
    "# classes : ['fake','real']\n",
    "# test_dataset = test_gen.flow_from_directory(\n",
    "#     path,\n",
    "#     target_size=(img_size, img_size),\n",
    "#     color_mode='rgb',\n",
    "#     class_mode='categorical',\n",
    "    \n",
    "# )\n",
    "image_path = \"0JPZKGZDQK.jpg\"\n",
    "\n",
    "# Load the image\n",
    "image = load_img(image_path)\n",
    "\n",
    "# Convert the image to a NumPy array\n",
    "image_array = img_to_array(image)\n",
    "\n",
    "# Preprocess the image\n",
    "image_array = tf.image.resize(image_array, (128, 128))\n",
    "image_array = image_array / 255.0\n",
    "\n",
    "# Make the image a batch of 1\n",
    "image_array = tf.expand_dims(image_array, axis=0)\n",
    "# for i in test_dataset:\n",
    "#     img=i[0]\n",
    "#     break\n",
    "classes=['fake','real']\n",
    "prediction=model.predict(image_array)\n",
    "predictLabel = classes[np.argmax(prediction)]\n",
    "prediction_conf=max(prediction[0])\n",
    "labelString = str(predictLabel+\" \"+str(int(1000*prediction_conf)/10)+ \"%\")"
   ]
  },
  {
   "cell_type": "code",
   "execution_count": 12,
   "metadata": {},
   "outputs": [
    {
     "data": {
      "text/plain": [
       "'fake 94.5%'"
      ]
     },
     "execution_count": 12,
     "metadata": {},
     "output_type": "execute_result"
    }
   ],
   "source": [
    "labelString"
   ]
  },
  {
   "cell_type": "code",
   "execution_count": 13,
   "metadata": {},
   "outputs": [
    {
     "ename": "TypeError",
     "evalue": "path should be path-like or io.BytesIO, not <class 'NoneType'>",
     "output_type": "error",
     "traceback": [
      "\u001b[1;31m---------------------------------------------------------------------------\u001b[0m",
      "\u001b[1;31mTypeError\u001b[0m                                 Traceback (most recent call last)",
      "Cell \u001b[1;32mIn[13], line 13\u001b[0m\n\u001b[0;32m     10\u001b[0m file\u001b[38;5;241m=\u001b[39mst\u001b[38;5;241m.\u001b[39mfile_uploader(\u001b[38;5;124m'\u001b[39m\u001b[38;5;124mPlease select image of a person\u001b[39m\u001b[38;5;124m'\u001b[39m,\u001b[38;5;28mtype\u001b[39m\u001b[38;5;241m=\u001b[39m[\u001b[38;5;124m'\u001b[39m\u001b[38;5;124mjpg\u001b[39m\u001b[38;5;124m'\u001b[39m,\u001b[38;5;124m'\u001b[39m\u001b[38;5;124mjpeg\u001b[39m\u001b[38;5;124m'\u001b[39m,\u001b[38;5;124m'\u001b[39m\u001b[38;5;124mpng\u001b[39m\u001b[38;5;124m'\u001b[39m])\n\u001b[0;32m     11\u001b[0m \u001b[38;5;66;03m#preparation through evaluation\u001b[39;00m\n\u001b[0;32m     12\u001b[0m \u001b[38;5;66;03m# classes = ['fake','real']\u001b[39;00m\n\u001b[1;32m---> 13\u001b[0m image \u001b[38;5;241m=\u001b[39m \u001b[43mload_img\u001b[49m\u001b[43m(\u001b[49m\u001b[43mfile\u001b[49m\u001b[43m)\u001b[49m\n\u001b[0;32m     15\u001b[0m \u001b[38;5;66;03m# Convert the image to a NumPy array\u001b[39;00m\n\u001b[0;32m     16\u001b[0m image_array \u001b[38;5;241m=\u001b[39m img_to_array(image)\n",
      "File \u001b[1;32mc:\\Users\\Gauta\\anaconda3\\envs\\main\\lib\\site-packages\\keras\\utils\\image_utils.py:425\u001b[0m, in \u001b[0;36mload_img\u001b[1;34m(path, grayscale, color_mode, target_size, interpolation, keep_aspect_ratio)\u001b[0m\n\u001b[0;32m    423\u001b[0m         img \u001b[38;5;241m=\u001b[39m pil_image\u001b[38;5;241m.\u001b[39mopen(io\u001b[38;5;241m.\u001b[39mBytesIO(f\u001b[38;5;241m.\u001b[39mread()))\n\u001b[0;32m    424\u001b[0m \u001b[38;5;28;01melse\u001b[39;00m:\n\u001b[1;32m--> 425\u001b[0m     \u001b[38;5;28;01mraise\u001b[39;00m \u001b[38;5;167;01mTypeError\u001b[39;00m(\n\u001b[0;32m    426\u001b[0m         \u001b[38;5;124m\"\u001b[39m\u001b[38;5;124mpath should be path-like or io.BytesIO\u001b[39m\u001b[38;5;124m\"\u001b[39m\n\u001b[0;32m    427\u001b[0m         \u001b[38;5;124m\"\u001b[39m\u001b[38;5;124m, not \u001b[39m\u001b[38;5;132;01m{}\u001b[39;00m\u001b[38;5;124m\"\u001b[39m\u001b[38;5;241m.\u001b[39mformat(\u001b[38;5;28mtype\u001b[39m(path))\n\u001b[0;32m    428\u001b[0m     )\n\u001b[0;32m    430\u001b[0m \u001b[38;5;28;01mif\u001b[39;00m color_mode \u001b[38;5;241m==\u001b[39m \u001b[38;5;124m\"\u001b[39m\u001b[38;5;124mgrayscale\u001b[39m\u001b[38;5;124m\"\u001b[39m:\n\u001b[0;32m    431\u001b[0m     \u001b[38;5;66;03m# if image is not already an 8-bit, 16-bit or 32-bit grayscale image\u001b[39;00m\n\u001b[0;32m    432\u001b[0m     \u001b[38;5;66;03m# convert it to an 8-bit grayscale image.\u001b[39;00m\n\u001b[0;32m    433\u001b[0m     \u001b[38;5;28;01mif\u001b[39;00m img\u001b[38;5;241m.\u001b[39mmode \u001b[38;5;129;01mnot\u001b[39;00m \u001b[38;5;129;01min\u001b[39;00m (\u001b[38;5;124m\"\u001b[39m\u001b[38;5;124mL\u001b[39m\u001b[38;5;124m\"\u001b[39m, \u001b[38;5;124m\"\u001b[39m\u001b[38;5;124mI;16\u001b[39m\u001b[38;5;124m\"\u001b[39m, \u001b[38;5;124m\"\u001b[39m\u001b[38;5;124mI\u001b[39m\u001b[38;5;124m\"\u001b[39m):\n",
      "\u001b[1;31mTypeError\u001b[0m: path should be path-like or io.BytesIO, not <class 'NoneType'>"
     ]
    }
   ],
   "source": [
    "import streamlit as st\n",
    "import tensorflow as tf\n",
    "\n",
    "# @st.cache(allow_output_mutation=True)\n",
    "def load_models():\n",
    "    model=tf.keras.models.load_model('main.h5')\n",
    "    return model\n",
    "model=load_models()\n",
    "st.write('AI Detector')\n",
    "file=st.file_uploader('Please select image of a person',type=['jpg','jpeg','png'])\n",
    "#preparation through evaluation\n",
    "# classes = ['fake','real']\n",
    "image = load_img(file)\n",
    "\n",
    "# Convert the image to a NumPy array\n",
    "image_array = img_to_array(image)\n",
    "\n",
    "# Preprocess the image\n",
    "image_array = tf.image.resize(image_array, (128, 128))\n",
    "image_array = image_array / 255.0\n",
    "\n",
    "# Make the image a batch of 1\n",
    "image_array = tf.expand_dims(image_array, axis=0)\n",
    "# for i in test_dataset:\n",
    "#     img=i[0]\n",
    "#     break\n",
    "model.predict(image_array)\n"
   ]
  },
  {
   "cell_type": "code",
   "execution_count": 14,
   "metadata": {},
   "outputs": [
    {
     "ename": "AttributeError",
     "evalue": "'NoneType' object has no attribute 'type'",
     "output_type": "error",
     "traceback": [
      "\u001b[1;31m---------------------------------------------------------------------------\u001b[0m",
      "\u001b[1;31mAttributeError\u001b[0m                            Traceback (most recent call last)",
      "Cell \u001b[1;32mIn[14], line 1\u001b[0m\n\u001b[1;32m----> 1\u001b[0m \u001b[43mfile\u001b[49m\u001b[38;5;241;43m.\u001b[39;49m\u001b[43mtype\u001b[49m\n",
      "\u001b[1;31mAttributeError\u001b[0m: 'NoneType' object has no attribute 'type'"
     ]
    }
   ],
   "source": [
    "file.type"
   ]
  }
 ],
 "metadata": {
  "kernelspec": {
   "display_name": "main",
   "language": "python",
   "name": "python3"
  },
  "language_info": {
   "codemirror_mode": {
    "name": "ipython",
    "version": 3
   },
   "file_extension": ".py",
   "mimetype": "text/x-python",
   "name": "python",
   "nbconvert_exporter": "python",
   "pygments_lexer": "ipython3",
   "version": "3.10.14"
  }
 },
 "nbformat": 4,
 "nbformat_minor": 2
}
